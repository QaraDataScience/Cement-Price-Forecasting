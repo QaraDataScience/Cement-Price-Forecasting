{
 "cells": [
  {
   "cell_type": "code",
   "execution_count": 19,
   "id": "initial_id",
   "metadata": {
    "collapsed": true,
    "ExecuteTime": {
     "end_time": "2023-12-15T09:05:20.217047900Z",
     "start_time": "2023-12-15T09:05:12.785797300Z"
    }
   },
   "outputs": [],
   "source": [
    "import pandas as pd\n",
    "import matplotlib.pyplot as plt\n",
    "import seaborn as sns"
   ]
  },
  {
   "cell_type": "code",
   "execution_count": 28,
   "outputs": [
    {
     "data": {
      "text/plain": "            id  price_updated_by  competitor_structure_id  market_id  \\\n0        26227               NaN                      340        157   \n1        26228               NaN                      341        157   \n2        26229               NaN                      342        157   \n3        26277               NaN                      340        157   \n4        26278               NaN                      341        157   \n...        ...               ...                      ...        ...   \n121077  266108             431.0                      397        152   \n121078  266109             431.0                     1071        152   \n121079  266110             431.0                     1073        152   \n121080  266111             431.0                      628        152   \n121081  266112             431.0                     1225        152   \n\n        company_id  current_price  new_price  transaction_status comment  \\\n0              146            0.0        0.0                   2     NaN   \n1              146            0.0        0.0                   2     NaN   \n2              146            0.0        0.0                   2     NaN   \n3              146            0.0        0.0                   2     NaN   \n4              146            0.0        0.0                   2     NaN   \n...            ...            ...        ...                 ...     ...   \n121077         146         2140.0     2140.0                   1     NaN   \n121078         146         2120.0     2120.0                   1     NaN   \n121079         146         2120.0     2120.0                   1     NaN   \n121080         146         2120.0     2120.0                   1     NaN   \n121081         146         2050.0     2050.0                   1     NaN   \n\n        action_by_id  last_approved_price  visability  serviceUpdate  \\\n0                NaN                  NaN         NaN            1.0   \n1                NaN                  NaN         NaN            1.0   \n2                NaN                  NaN         NaN            1.0   \n3                NaN                  NaN         NaN            1.0   \n4                NaN                  NaN         NaN            1.0   \n...              ...                  ...         ...            ...   \n121077           NaN               2140.0         1.0            NaN   \n121078           NaN               2120.0         1.0            NaN   \n121079           NaN               2120.0         1.0            NaN   \n121080           NaN               2120.0         1.0            NaN   \n121081           NaN               2050.0         1.0            NaN   \n\n        no_change            createdDate action_date              createdAt  \\\n0             NaN  '2022-05-24 21:01:10'         NaN  '2022-05-24 21:01:10'   \n1             NaN  '2022-05-24 21:01:11'         NaN  '2022-05-24 21:01:11'   \n2             NaN  '2022-05-24 21:01:12'         NaN  '2022-05-24 21:01:12'   \n3             NaN  '2022-05-25 21:01:10'         NaN  '2022-05-25 21:01:10'   \n4             NaN  '2022-05-25 21:01:11'         NaN  '2022-05-25 21:01:11'   \n...           ...                    ...         ...                    ...   \n121077        0.0  '2023-12-11 11:06:14'         NaN  '2023-12-11 11:06:14'   \n121078        0.0  '2023-12-11 11:06:14'         NaN  '2023-12-11 11:06:14'   \n121079        0.0  '2023-12-11 11:06:14'         NaN  '2023-12-11 11:06:14'   \n121080        0.0  '2023-12-11 11:06:14'         NaN  '2023-12-11 11:06:14'   \n121081        0.0  '2023-12-11 11:06:14'         NaN  '2023-12-11 11:06:14'   \n\n                    updatedAt deletedAt  competitors_structure_id  \n0       '2023-06-19 14:05:15'       NaN                       NaN  \n1       '2023-06-19 14:05:15'       NaN                       NaN  \n2       '2023-06-19 14:05:15'       NaN                       NaN  \n3       '2023-06-19 14:05:15'       NaN                       NaN  \n4       '2023-06-19 14:05:15'       NaN                       NaN  \n...                       ...       ...                       ...  \n121077  '2023-12-11 11:06:14'       NaN                       NaN  \n121078  '2023-12-11 11:06:14'       NaN                       NaN  \n121079  '2023-12-11 11:06:14'       NaN                       NaN  \n121080  '2023-12-11 11:06:14'       NaN                       NaN  \n121081  '2023-12-11 11:06:14'       NaN                       NaN  \n\n[121082 rows x 20 columns]",
      "text/html": "<div>\n<style scoped>\n    .dataframe tbody tr th:only-of-type {\n        vertical-align: middle;\n    }\n\n    .dataframe tbody tr th {\n        vertical-align: top;\n    }\n\n    .dataframe thead th {\n        text-align: right;\n    }\n</style>\n<table border=\"1\" class=\"dataframe\">\n  <thead>\n    <tr style=\"text-align: right;\">\n      <th></th>\n      <th>id</th>\n      <th>price_updated_by</th>\n      <th>competitor_structure_id</th>\n      <th>market_id</th>\n      <th>company_id</th>\n      <th>current_price</th>\n      <th>new_price</th>\n      <th>transaction_status</th>\n      <th>comment</th>\n      <th>action_by_id</th>\n      <th>last_approved_price</th>\n      <th>visability</th>\n      <th>serviceUpdate</th>\n      <th>no_change</th>\n      <th>createdDate</th>\n      <th>action_date</th>\n      <th>createdAt</th>\n      <th>updatedAt</th>\n      <th>deletedAt</th>\n      <th>competitors_structure_id</th>\n    </tr>\n  </thead>\n  <tbody>\n    <tr>\n      <th>0</th>\n      <td>26227</td>\n      <td>NaN</td>\n      <td>340</td>\n      <td>157</td>\n      <td>146</td>\n      <td>0.0</td>\n      <td>0.0</td>\n      <td>2</td>\n      <td>NaN</td>\n      <td>NaN</td>\n      <td>NaN</td>\n      <td>NaN</td>\n      <td>1.0</td>\n      <td>NaN</td>\n      <td>'2022-05-24 21:01:10'</td>\n      <td>NaN</td>\n      <td>'2022-05-24 21:01:10'</td>\n      <td>'2023-06-19 14:05:15'</td>\n      <td>NaN</td>\n      <td>NaN</td>\n    </tr>\n    <tr>\n      <th>1</th>\n      <td>26228</td>\n      <td>NaN</td>\n      <td>341</td>\n      <td>157</td>\n      <td>146</td>\n      <td>0.0</td>\n      <td>0.0</td>\n      <td>2</td>\n      <td>NaN</td>\n      <td>NaN</td>\n      <td>NaN</td>\n      <td>NaN</td>\n      <td>1.0</td>\n      <td>NaN</td>\n      <td>'2022-05-24 21:01:11'</td>\n      <td>NaN</td>\n      <td>'2022-05-24 21:01:11'</td>\n      <td>'2023-06-19 14:05:15'</td>\n      <td>NaN</td>\n      <td>NaN</td>\n    </tr>\n    <tr>\n      <th>2</th>\n      <td>26229</td>\n      <td>NaN</td>\n      <td>342</td>\n      <td>157</td>\n      <td>146</td>\n      <td>0.0</td>\n      <td>0.0</td>\n      <td>2</td>\n      <td>NaN</td>\n      <td>NaN</td>\n      <td>NaN</td>\n      <td>NaN</td>\n      <td>1.0</td>\n      <td>NaN</td>\n      <td>'2022-05-24 21:01:12'</td>\n      <td>NaN</td>\n      <td>'2022-05-24 21:01:12'</td>\n      <td>'2023-06-19 14:05:15'</td>\n      <td>NaN</td>\n      <td>NaN</td>\n    </tr>\n    <tr>\n      <th>3</th>\n      <td>26277</td>\n      <td>NaN</td>\n      <td>340</td>\n      <td>157</td>\n      <td>146</td>\n      <td>0.0</td>\n      <td>0.0</td>\n      <td>2</td>\n      <td>NaN</td>\n      <td>NaN</td>\n      <td>NaN</td>\n      <td>NaN</td>\n      <td>1.0</td>\n      <td>NaN</td>\n      <td>'2022-05-25 21:01:10'</td>\n      <td>NaN</td>\n      <td>'2022-05-25 21:01:10'</td>\n      <td>'2023-06-19 14:05:15'</td>\n      <td>NaN</td>\n      <td>NaN</td>\n    </tr>\n    <tr>\n      <th>4</th>\n      <td>26278</td>\n      <td>NaN</td>\n      <td>341</td>\n      <td>157</td>\n      <td>146</td>\n      <td>0.0</td>\n      <td>0.0</td>\n      <td>2</td>\n      <td>NaN</td>\n      <td>NaN</td>\n      <td>NaN</td>\n      <td>NaN</td>\n      <td>1.0</td>\n      <td>NaN</td>\n      <td>'2022-05-25 21:01:11'</td>\n      <td>NaN</td>\n      <td>'2022-05-25 21:01:11'</td>\n      <td>'2023-06-19 14:05:15'</td>\n      <td>NaN</td>\n      <td>NaN</td>\n    </tr>\n    <tr>\n      <th>...</th>\n      <td>...</td>\n      <td>...</td>\n      <td>...</td>\n      <td>...</td>\n      <td>...</td>\n      <td>...</td>\n      <td>...</td>\n      <td>...</td>\n      <td>...</td>\n      <td>...</td>\n      <td>...</td>\n      <td>...</td>\n      <td>...</td>\n      <td>...</td>\n      <td>...</td>\n      <td>...</td>\n      <td>...</td>\n      <td>...</td>\n      <td>...</td>\n      <td>...</td>\n    </tr>\n    <tr>\n      <th>121077</th>\n      <td>266108</td>\n      <td>431.0</td>\n      <td>397</td>\n      <td>152</td>\n      <td>146</td>\n      <td>2140.0</td>\n      <td>2140.0</td>\n      <td>1</td>\n      <td>NaN</td>\n      <td>NaN</td>\n      <td>2140.0</td>\n      <td>1.0</td>\n      <td>NaN</td>\n      <td>0.0</td>\n      <td>'2023-12-11 11:06:14'</td>\n      <td>NaN</td>\n      <td>'2023-12-11 11:06:14'</td>\n      <td>'2023-12-11 11:06:14'</td>\n      <td>NaN</td>\n      <td>NaN</td>\n    </tr>\n    <tr>\n      <th>121078</th>\n      <td>266109</td>\n      <td>431.0</td>\n      <td>1071</td>\n      <td>152</td>\n      <td>146</td>\n      <td>2120.0</td>\n      <td>2120.0</td>\n      <td>1</td>\n      <td>NaN</td>\n      <td>NaN</td>\n      <td>2120.0</td>\n      <td>1.0</td>\n      <td>NaN</td>\n      <td>0.0</td>\n      <td>'2023-12-11 11:06:14'</td>\n      <td>NaN</td>\n      <td>'2023-12-11 11:06:14'</td>\n      <td>'2023-12-11 11:06:14'</td>\n      <td>NaN</td>\n      <td>NaN</td>\n    </tr>\n    <tr>\n      <th>121079</th>\n      <td>266110</td>\n      <td>431.0</td>\n      <td>1073</td>\n      <td>152</td>\n      <td>146</td>\n      <td>2120.0</td>\n      <td>2120.0</td>\n      <td>1</td>\n      <td>NaN</td>\n      <td>NaN</td>\n      <td>2120.0</td>\n      <td>1.0</td>\n      <td>NaN</td>\n      <td>0.0</td>\n      <td>'2023-12-11 11:06:14'</td>\n      <td>NaN</td>\n      <td>'2023-12-11 11:06:14'</td>\n      <td>'2023-12-11 11:06:14'</td>\n      <td>NaN</td>\n      <td>NaN</td>\n    </tr>\n    <tr>\n      <th>121080</th>\n      <td>266111</td>\n      <td>431.0</td>\n      <td>628</td>\n      <td>152</td>\n      <td>146</td>\n      <td>2120.0</td>\n      <td>2120.0</td>\n      <td>1</td>\n      <td>NaN</td>\n      <td>NaN</td>\n      <td>2120.0</td>\n      <td>1.0</td>\n      <td>NaN</td>\n      <td>0.0</td>\n      <td>'2023-12-11 11:06:14'</td>\n      <td>NaN</td>\n      <td>'2023-12-11 11:06:14'</td>\n      <td>'2023-12-11 11:06:14'</td>\n      <td>NaN</td>\n      <td>NaN</td>\n    </tr>\n    <tr>\n      <th>121081</th>\n      <td>266112</td>\n      <td>431.0</td>\n      <td>1225</td>\n      <td>152</td>\n      <td>146</td>\n      <td>2050.0</td>\n      <td>2050.0</td>\n      <td>1</td>\n      <td>NaN</td>\n      <td>NaN</td>\n      <td>2050.0</td>\n      <td>1.0</td>\n      <td>NaN</td>\n      <td>0.0</td>\n      <td>'2023-12-11 11:06:14'</td>\n      <td>NaN</td>\n      <td>'2023-12-11 11:06:14'</td>\n      <td>'2023-12-11 11:06:14'</td>\n      <td>NaN</td>\n      <td>NaN</td>\n    </tr>\n  </tbody>\n</table>\n<p>121082 rows × 20 columns</p>\n</div>"
     },
     "execution_count": 28,
     "metadata": {},
     "output_type": "execute_result"
    }
   ],
   "source": [
    "file_path = 'cement_prices.csv'\n",
    "\n",
    "# Read the CSV file into a DataFrame\n",
    "historical_cement_prices = pd.read_csv(file_path)\n",
    "historical_cement_prices"
   ],
   "metadata": {
    "collapsed": false,
    "ExecuteTime": {
     "end_time": "2023-12-15T09:14:57.194763200Z",
     "start_time": "2023-12-15T09:14:56.604290500Z"
    }
   },
   "id": "86ab608dd5a99261"
  },
  {
   "cell_type": "code",
   "execution_count": 29,
   "outputs": [
    {
     "data": {
      "text/plain": "id                            int64\nprice_updated_by            float64\ncompetitor_structure_id      object\nmarket_id                     int64\ncompany_id                    int64\ncurrent_price               float64\nnew_price                   float64\ntransaction_status            int64\ncomment                      object\naction_by_id                float64\nlast_approved_price         float64\nvisability                  float64\nserviceUpdate               float64\nno_change                   float64\ncreatedDate                  object\naction_date                  object\ncreatedAt                    object\nupdatedAt                    object\ndeletedAt                    object\ncompetitors_structure_id    float64\ndtype: object"
     },
     "execution_count": 29,
     "metadata": {},
     "output_type": "execute_result"
    }
   ],
   "source": [
    "historical_cement_prices = historical_cement_prices[historical_cement_prices['new_price'] > 1]\n",
    "historical_cement_prices = historical_cement_prices[historical_cement_prices['transaction_status'] != 0]\n",
    "historical_cement_prices.reset_index(drop=True, inplace=True)\n",
    "historical_cement_prices['competitor_structure_id'] = historical_cement_prices['competitor_structure_id'].astype(str)\n",
    "historical_cement_prices.dtypes"
   ],
   "metadata": {
    "collapsed": false,
    "ExecuteTime": {
     "end_time": "2023-12-15T09:14:58.334651100Z",
     "start_time": "2023-12-15T09:14:58.074713700Z"
    }
   },
   "id": "1e716a5f59dd7f55"
  },
  {
   "cell_type": "code",
   "execution_count": 30,
   "outputs": [
    {
     "data": {
      "text/plain": "       competitor_structure_id  market_id  company_id  current_price  \\\n0                          428        147         146         1300.0   \n1                          429        147         146         1300.0   \n2                          428        147         146         1300.0   \n3                          429        147         146         1300.0   \n4                          419        147         146         1260.0   \n...                        ...        ...         ...            ...   \n118734                     397        152         146         2140.0   \n118735                    1071        152         146         2120.0   \n118736                    1073        152         146         2120.0   \n118737                     628        152         146         2120.0   \n118738                    1225        152         146         2050.0   \n\n        new_price  transaction_status  last_approved_price  \\\n0          1300.0                   2               1300.0   \n1          1300.0                   2               1300.0   \n2          1300.0                   2               1300.0   \n3          1300.0                   2               1300.0   \n4          1260.0                   2               1260.0   \n...           ...                 ...                  ...   \n118734     2140.0                   1               2140.0   \n118735     2120.0                   1               2120.0   \n118736     2120.0                   1               2120.0   \n118737     2120.0                   1               2120.0   \n118738     2050.0                   1               2050.0   \n\n                  createdDate  \n0       '2022-06-01 10:22:08'  \n1       '2022-06-01 10:22:11'  \n2       '2022-06-01 10:25:54'  \n3       '2022-06-01 10:25:57'  \n4       '2022-06-01 10:26:04'  \n...                       ...  \n118734  '2023-12-11 11:06:14'  \n118735  '2023-12-11 11:06:14'  \n118736  '2023-12-11 11:06:14'  \n118737  '2023-12-11 11:06:14'  \n118738  '2023-12-11 11:06:14'  \n\n[118739 rows x 8 columns]",
      "text/html": "<div>\n<style scoped>\n    .dataframe tbody tr th:only-of-type {\n        vertical-align: middle;\n    }\n\n    .dataframe tbody tr th {\n        vertical-align: top;\n    }\n\n    .dataframe thead th {\n        text-align: right;\n    }\n</style>\n<table border=\"1\" class=\"dataframe\">\n  <thead>\n    <tr style=\"text-align: right;\">\n      <th></th>\n      <th>competitor_structure_id</th>\n      <th>market_id</th>\n      <th>company_id</th>\n      <th>current_price</th>\n      <th>new_price</th>\n      <th>transaction_status</th>\n      <th>last_approved_price</th>\n      <th>createdDate</th>\n    </tr>\n  </thead>\n  <tbody>\n    <tr>\n      <th>0</th>\n      <td>428</td>\n      <td>147</td>\n      <td>146</td>\n      <td>1300.0</td>\n      <td>1300.0</td>\n      <td>2</td>\n      <td>1300.0</td>\n      <td>'2022-06-01 10:22:08'</td>\n    </tr>\n    <tr>\n      <th>1</th>\n      <td>429</td>\n      <td>147</td>\n      <td>146</td>\n      <td>1300.0</td>\n      <td>1300.0</td>\n      <td>2</td>\n      <td>1300.0</td>\n      <td>'2022-06-01 10:22:11'</td>\n    </tr>\n    <tr>\n      <th>2</th>\n      <td>428</td>\n      <td>147</td>\n      <td>146</td>\n      <td>1300.0</td>\n      <td>1300.0</td>\n      <td>2</td>\n      <td>1300.0</td>\n      <td>'2022-06-01 10:25:54'</td>\n    </tr>\n    <tr>\n      <th>3</th>\n      <td>429</td>\n      <td>147</td>\n      <td>146</td>\n      <td>1300.0</td>\n      <td>1300.0</td>\n      <td>2</td>\n      <td>1300.0</td>\n      <td>'2022-06-01 10:25:57'</td>\n    </tr>\n    <tr>\n      <th>4</th>\n      <td>419</td>\n      <td>147</td>\n      <td>146</td>\n      <td>1260.0</td>\n      <td>1260.0</td>\n      <td>2</td>\n      <td>1260.0</td>\n      <td>'2022-06-01 10:26:04'</td>\n    </tr>\n    <tr>\n      <th>...</th>\n      <td>...</td>\n      <td>...</td>\n      <td>...</td>\n      <td>...</td>\n      <td>...</td>\n      <td>...</td>\n      <td>...</td>\n      <td>...</td>\n    </tr>\n    <tr>\n      <th>118734</th>\n      <td>397</td>\n      <td>152</td>\n      <td>146</td>\n      <td>2140.0</td>\n      <td>2140.0</td>\n      <td>1</td>\n      <td>2140.0</td>\n      <td>'2023-12-11 11:06:14'</td>\n    </tr>\n    <tr>\n      <th>118735</th>\n      <td>1071</td>\n      <td>152</td>\n      <td>146</td>\n      <td>2120.0</td>\n      <td>2120.0</td>\n      <td>1</td>\n      <td>2120.0</td>\n      <td>'2023-12-11 11:06:14'</td>\n    </tr>\n    <tr>\n      <th>118736</th>\n      <td>1073</td>\n      <td>152</td>\n      <td>146</td>\n      <td>2120.0</td>\n      <td>2120.0</td>\n      <td>1</td>\n      <td>2120.0</td>\n      <td>'2023-12-11 11:06:14'</td>\n    </tr>\n    <tr>\n      <th>118737</th>\n      <td>628</td>\n      <td>152</td>\n      <td>146</td>\n      <td>2120.0</td>\n      <td>2120.0</td>\n      <td>1</td>\n      <td>2120.0</td>\n      <td>'2023-12-11 11:06:14'</td>\n    </tr>\n    <tr>\n      <th>118738</th>\n      <td>1225</td>\n      <td>152</td>\n      <td>146</td>\n      <td>2050.0</td>\n      <td>2050.0</td>\n      <td>1</td>\n      <td>2050.0</td>\n      <td>'2023-12-11 11:06:14'</td>\n    </tr>\n  </tbody>\n</table>\n<p>118739 rows × 8 columns</p>\n</div>"
     },
     "execution_count": 30,
     "metadata": {},
     "output_type": "execute_result"
    }
   ],
   "source": [
    "columns_to_drop = ['comment','visability','serviceUpdate', 'no_change','deletedAt','id', 'price_updated_by', 'action_by_id', 'action_date', 'createdAt', 'updatedAt', 'deletedAt', 'competitors_structure_id']\n",
    "historical_cement_prices = historical_cement_prices.drop(columns_to_drop, axis=1)\n",
    "historical_cement_prices "
   ],
   "metadata": {
    "collapsed": false,
    "ExecuteTime": {
     "end_time": "2023-12-15T09:15:03.392603100Z",
     "start_time": "2023-12-15T09:15:03.351198800Z"
    }
   },
   "id": "b92ed0a14dc3cbaf"
  },
  {
   "cell_type": "code",
   "execution_count": 31,
   "outputs": [
    {
     "data": {
      "text/plain": "competitor_structure_id     object\nmarket_id                    int64\ncompany_id                   int64\ncurrent_price              float64\nnew_price                  float64\ntransaction_status           int64\nlast_approved_price        float64\ncreatedDate                 object\ndtype: object"
     },
     "execution_count": 31,
     "metadata": {},
     "output_type": "execute_result"
    }
   ],
   "source": [
    "historical_cement_prices.dtypes"
   ],
   "metadata": {
    "collapsed": false,
    "ExecuteTime": {
     "end_time": "2023-12-15T09:15:05.723192400Z",
     "start_time": "2023-12-15T09:15:05.689178Z"
    }
   },
   "id": "313820a62fd80e26"
  },
  {
   "cell_type": "code",
   "execution_count": 32,
   "outputs": [
    {
     "data": {
      "text/plain": "       competitor_structure_id  market_id  company_id  current_price  \\\n0                          428        147         146         1300.0   \n1                          429        147         146         1300.0   \n2                          428        147         146         1300.0   \n3                          429        147         146         1300.0   \n4                          419        147         146         1260.0   \n...                        ...        ...         ...            ...   \n118734                     397        152         146         2140.0   \n118735                    1071        152         146         2120.0   \n118736                    1073        152         146         2120.0   \n118737                     628        152         146         2120.0   \n118738                    1225        152         146         2050.0   \n\n        new_price  transaction_status  last_approved_price createdDate  \n0          1300.0                   2               1300.0  2022-06-01  \n1          1300.0                   2               1300.0  2022-06-01  \n2          1300.0                   2               1300.0  2022-06-01  \n3          1300.0                   2               1300.0  2022-06-01  \n4          1260.0                   2               1260.0  2022-06-01  \n...           ...                 ...                  ...         ...  \n118734     2140.0                   1               2140.0  2023-12-11  \n118735     2120.0                   1               2120.0  2023-12-11  \n118736     2120.0                   1               2120.0  2023-12-11  \n118737     2120.0                   1               2120.0  2023-12-11  \n118738     2050.0                   1               2050.0  2023-12-11  \n\n[118739 rows x 8 columns]",
      "text/html": "<div>\n<style scoped>\n    .dataframe tbody tr th:only-of-type {\n        vertical-align: middle;\n    }\n\n    .dataframe tbody tr th {\n        vertical-align: top;\n    }\n\n    .dataframe thead th {\n        text-align: right;\n    }\n</style>\n<table border=\"1\" class=\"dataframe\">\n  <thead>\n    <tr style=\"text-align: right;\">\n      <th></th>\n      <th>competitor_structure_id</th>\n      <th>market_id</th>\n      <th>company_id</th>\n      <th>current_price</th>\n      <th>new_price</th>\n      <th>transaction_status</th>\n      <th>last_approved_price</th>\n      <th>createdDate</th>\n    </tr>\n  </thead>\n  <tbody>\n    <tr>\n      <th>0</th>\n      <td>428</td>\n      <td>147</td>\n      <td>146</td>\n      <td>1300.0</td>\n      <td>1300.0</td>\n      <td>2</td>\n      <td>1300.0</td>\n      <td>2022-06-01</td>\n    </tr>\n    <tr>\n      <th>1</th>\n      <td>429</td>\n      <td>147</td>\n      <td>146</td>\n      <td>1300.0</td>\n      <td>1300.0</td>\n      <td>2</td>\n      <td>1300.0</td>\n      <td>2022-06-01</td>\n    </tr>\n    <tr>\n      <th>2</th>\n      <td>428</td>\n      <td>147</td>\n      <td>146</td>\n      <td>1300.0</td>\n      <td>1300.0</td>\n      <td>2</td>\n      <td>1300.0</td>\n      <td>2022-06-01</td>\n    </tr>\n    <tr>\n      <th>3</th>\n      <td>429</td>\n      <td>147</td>\n      <td>146</td>\n      <td>1300.0</td>\n      <td>1300.0</td>\n      <td>2</td>\n      <td>1300.0</td>\n      <td>2022-06-01</td>\n    </tr>\n    <tr>\n      <th>4</th>\n      <td>419</td>\n      <td>147</td>\n      <td>146</td>\n      <td>1260.0</td>\n      <td>1260.0</td>\n      <td>2</td>\n      <td>1260.0</td>\n      <td>2022-06-01</td>\n    </tr>\n    <tr>\n      <th>...</th>\n      <td>...</td>\n      <td>...</td>\n      <td>...</td>\n      <td>...</td>\n      <td>...</td>\n      <td>...</td>\n      <td>...</td>\n      <td>...</td>\n    </tr>\n    <tr>\n      <th>118734</th>\n      <td>397</td>\n      <td>152</td>\n      <td>146</td>\n      <td>2140.0</td>\n      <td>2140.0</td>\n      <td>1</td>\n      <td>2140.0</td>\n      <td>2023-12-11</td>\n    </tr>\n    <tr>\n      <th>118735</th>\n      <td>1071</td>\n      <td>152</td>\n      <td>146</td>\n      <td>2120.0</td>\n      <td>2120.0</td>\n      <td>1</td>\n      <td>2120.0</td>\n      <td>2023-12-11</td>\n    </tr>\n    <tr>\n      <th>118736</th>\n      <td>1073</td>\n      <td>152</td>\n      <td>146</td>\n      <td>2120.0</td>\n      <td>2120.0</td>\n      <td>1</td>\n      <td>2120.0</td>\n      <td>2023-12-11</td>\n    </tr>\n    <tr>\n      <th>118737</th>\n      <td>628</td>\n      <td>152</td>\n      <td>146</td>\n      <td>2120.0</td>\n      <td>2120.0</td>\n      <td>1</td>\n      <td>2120.0</td>\n      <td>2023-12-11</td>\n    </tr>\n    <tr>\n      <th>118738</th>\n      <td>1225</td>\n      <td>152</td>\n      <td>146</td>\n      <td>2050.0</td>\n      <td>2050.0</td>\n      <td>1</td>\n      <td>2050.0</td>\n      <td>2023-12-11</td>\n    </tr>\n  </tbody>\n</table>\n<p>118739 rows × 8 columns</p>\n</div>"
     },
     "execution_count": 32,
     "metadata": {},
     "output_type": "execute_result"
    }
   ],
   "source": [
    "historical_cement_prices['createdDate'] = pd.to_datetime(historical_cement_prices['createdDate'])\n",
    "historical_cement_prices['createdDate'] = historical_cement_prices['createdDate'].dt.strftime('%Y-%m-%d')\n",
    "historical_cement_prices"
   ],
   "metadata": {
    "collapsed": false,
    "ExecuteTime": {
     "end_time": "2023-12-15T09:15:27.540645900Z",
     "start_time": "2023-12-15T09:15:08.995640500Z"
    }
   },
   "id": "b38d6273db34ba2c"
  },
  {
   "cell_type": "code",
   "execution_count": 33,
   "outputs": [
    {
     "name": "stderr",
     "output_type": "stream",
     "text": [
      "C:\\Users\\George Welson\\AppData\\Local\\Temp\\ipykernel_25108\\1633497698.py:1: FutureWarning: Indexing with multiple keys (implicitly converted to a tuple of keys) will be deprecated, use a list instead.\n",
      "  historical_cement_prices = historical_cement_prices.groupby(['competitor_structure_id', 'createdDate'])['current_price', 'new_price'].mean().reset_index()\n"
     ]
    },
    {
     "data": {
      "text/plain": "       competitor_structure_id createdDate  current_price  new_price\n0                         1066  2022-09-13         1425.0     1425.0\n1                         1066  2022-09-14         1425.0     1425.0\n2                         1066  2022-09-15         1425.0     1425.0\n3                         1066  2022-09-16         1425.0     1425.0\n4                         1066  2022-09-17         1425.0     1425.0\n...                        ...         ...            ...        ...\n101414                     814  2023-12-06         2070.0     2070.0\n101415                     814  2023-12-07         2070.0     2070.0\n101416                     814  2023-12-08         2070.0     2070.0\n101417                     814  2023-12-09         2070.0     2070.0\n101418                     814  2023-12-10         2070.0     2070.0\n\n[101419 rows x 4 columns]",
      "text/html": "<div>\n<style scoped>\n    .dataframe tbody tr th:only-of-type {\n        vertical-align: middle;\n    }\n\n    .dataframe tbody tr th {\n        vertical-align: top;\n    }\n\n    .dataframe thead th {\n        text-align: right;\n    }\n</style>\n<table border=\"1\" class=\"dataframe\">\n  <thead>\n    <tr style=\"text-align: right;\">\n      <th></th>\n      <th>competitor_structure_id</th>\n      <th>createdDate</th>\n      <th>current_price</th>\n      <th>new_price</th>\n    </tr>\n  </thead>\n  <tbody>\n    <tr>\n      <th>0</th>\n      <td>1066</td>\n      <td>2022-09-13</td>\n      <td>1425.0</td>\n      <td>1425.0</td>\n    </tr>\n    <tr>\n      <th>1</th>\n      <td>1066</td>\n      <td>2022-09-14</td>\n      <td>1425.0</td>\n      <td>1425.0</td>\n    </tr>\n    <tr>\n      <th>2</th>\n      <td>1066</td>\n      <td>2022-09-15</td>\n      <td>1425.0</td>\n      <td>1425.0</td>\n    </tr>\n    <tr>\n      <th>3</th>\n      <td>1066</td>\n      <td>2022-09-16</td>\n      <td>1425.0</td>\n      <td>1425.0</td>\n    </tr>\n    <tr>\n      <th>4</th>\n      <td>1066</td>\n      <td>2022-09-17</td>\n      <td>1425.0</td>\n      <td>1425.0</td>\n    </tr>\n    <tr>\n      <th>...</th>\n      <td>...</td>\n      <td>...</td>\n      <td>...</td>\n      <td>...</td>\n    </tr>\n    <tr>\n      <th>101414</th>\n      <td>814</td>\n      <td>2023-12-06</td>\n      <td>2070.0</td>\n      <td>2070.0</td>\n    </tr>\n    <tr>\n      <th>101415</th>\n      <td>814</td>\n      <td>2023-12-07</td>\n      <td>2070.0</td>\n      <td>2070.0</td>\n    </tr>\n    <tr>\n      <th>101416</th>\n      <td>814</td>\n      <td>2023-12-08</td>\n      <td>2070.0</td>\n      <td>2070.0</td>\n    </tr>\n    <tr>\n      <th>101417</th>\n      <td>814</td>\n      <td>2023-12-09</td>\n      <td>2070.0</td>\n      <td>2070.0</td>\n    </tr>\n    <tr>\n      <th>101418</th>\n      <td>814</td>\n      <td>2023-12-10</td>\n      <td>2070.0</td>\n      <td>2070.0</td>\n    </tr>\n  </tbody>\n</table>\n<p>101419 rows × 4 columns</p>\n</div>"
     },
     "execution_count": 33,
     "metadata": {},
     "output_type": "execute_result"
    }
   ],
   "source": [
    "historical_cement_prices = historical_cement_prices.groupby(['competitor_structure_id', 'createdDate'])['current_price', 'new_price'].mean().reset_index()\n",
    "print(historical_cement_prices)"
   ],
   "metadata": {
    "collapsed": false,
    "ExecuteTime": {
     "end_time": "2023-12-15T09:15:37.453512900Z",
     "start_time": "2023-12-15T09:15:37.356355300Z"
    }
   },
   "id": "ebbb1960f0b10e1f"
  },
  {
   "cell_type": "code",
   "execution_count": 37,
   "outputs": [
    {
     "name": "stdout",
     "output_type": "stream",
     "text": [
      "      competitor_structure_id createdDate  current_price  new_price\n",
      "41420                     428  2022-06-01         1300.0     1300.0\n",
      "41421                     428  2022-06-02         1300.0     1300.0\n",
      "41422                     428  2022-06-03         1300.0     1300.0\n",
      "41423                     428  2022-06-05         1300.0     1300.0\n",
      "41424                     428  2022-06-06         1300.0     1300.0\n",
      "...                       ...         ...            ...        ...\n",
      "41967                     428  2023-12-06         2110.0     2110.0\n",
      "41968                     428  2023-12-07         2110.0     2110.0\n",
      "41969                     428  2023-12-08         2110.0     2110.0\n",
      "41970                     428  2023-12-09         2110.0     2110.0\n",
      "41971                     428  2023-12-10         2110.0     2110.0\n",
      "\n",
      "[552 rows x 4 columns]\n"
     ]
    }
   ],
   "source": [
    "filtered_df = historical_cement_prices[historical_cement_prices['competitor_structure_id'] == \"428\"]\n",
    "\n",
    "print(filtered_df)\n",
    " "
   ],
   "metadata": {
    "collapsed": false,
    "ExecuteTime": {
     "end_time": "2023-12-15T09:34:15.109826600Z",
     "start_time": "2023-12-15T09:34:15.027945200Z"
    }
   },
   "id": "2c8ad659094acb3e"
  },
  {
   "cell_type": "code",
   "execution_count": 15,
   "outputs": [
    {
     "data": {
      "text/plain": "       competitor_structure_id  current_price      new_price\ncount            101419.000000  101419.000000  101419.000000\nmean                581.668731    1721.332418    1721.529542\nstd                 237.185650     264.158060     262.737299\nmin                 340.000000       0.000000     878.500000\n25%                 421.000000    1520.000000    1520.000000\n50%                 525.000000    1750.000000    1750.000000\n75%                 633.000000    1900.000000    1895.000000\nmax                1225.000000   22150.000000   22150.000000",
      "text/html": "<div>\n<style scoped>\n    .dataframe tbody tr th:only-of-type {\n        vertical-align: middle;\n    }\n\n    .dataframe tbody tr th {\n        vertical-align: top;\n    }\n\n    .dataframe thead th {\n        text-align: right;\n    }\n</style>\n<table border=\"1\" class=\"dataframe\">\n  <thead>\n    <tr style=\"text-align: right;\">\n      <th></th>\n      <th>competitor_structure_id</th>\n      <th>current_price</th>\n      <th>new_price</th>\n    </tr>\n  </thead>\n  <tbody>\n    <tr>\n      <th>count</th>\n      <td>101419.000000</td>\n      <td>101419.000000</td>\n      <td>101419.000000</td>\n    </tr>\n    <tr>\n      <th>mean</th>\n      <td>581.668731</td>\n      <td>1721.332418</td>\n      <td>1721.529542</td>\n    </tr>\n    <tr>\n      <th>std</th>\n      <td>237.185650</td>\n      <td>264.158060</td>\n      <td>262.737299</td>\n    </tr>\n    <tr>\n      <th>min</th>\n      <td>340.000000</td>\n      <td>0.000000</td>\n      <td>878.500000</td>\n    </tr>\n    <tr>\n      <th>25%</th>\n      <td>421.000000</td>\n      <td>1520.000000</td>\n      <td>1520.000000</td>\n    </tr>\n    <tr>\n      <th>50%</th>\n      <td>525.000000</td>\n      <td>1750.000000</td>\n      <td>1750.000000</td>\n    </tr>\n    <tr>\n      <th>75%</th>\n      <td>633.000000</td>\n      <td>1900.000000</td>\n      <td>1895.000000</td>\n    </tr>\n    <tr>\n      <th>max</th>\n      <td>1225.000000</td>\n      <td>22150.000000</td>\n      <td>22150.000000</td>\n    </tr>\n  </tbody>\n</table>\n</div>"
     },
     "execution_count": 15,
     "metadata": {},
     "output_type": "execute_result"
    }
   ],
   "source": [
    "historical_cement_prices.describe()"
   ],
   "metadata": {
    "collapsed": false,
    "ExecuteTime": {
     "end_time": "2023-12-15T06:53:15.770735600Z",
     "start_time": "2023-12-15T06:53:15.677099400Z"
    }
   },
   "id": "11c0f3c29aa1b529"
  },
  {
   "cell_type": "code",
   "execution_count": 17,
   "outputs": [
    {
     "data": {
      "text/plain": "417     554\n452     553\n420     553\n421     553\n423     553\n       ... \n1175     28\n1185     26\n1170     22\n1225     22\n1186      1\nName: competitor_structure_id, Length: 245, dtype: int64"
     },
     "execution_count": 17,
     "metadata": {},
     "output_type": "execute_result"
    }
   ],
   "source": [
    "historical_cement_prices.competitor_structure_id.value_counts()"
   ],
   "metadata": {
    "collapsed": false,
    "ExecuteTime": {
     "end_time": "2023-12-15T06:53:30.338970800Z",
     "start_time": "2023-12-15T06:53:30.311939200Z"
    }
   },
   "id": "3962ee6649f2270f"
  },
  {
   "cell_type": "code",
   "execution_count": 22,
   "outputs": [
    {
     "data": {
      "text/plain": "competitor_structure_id      int64\ncreatedDate                 object\ncurrent_price              float64\nnew_price                  float64\ndtype: object"
     },
     "execution_count": 22,
     "metadata": {},
     "output_type": "execute_result"
    }
   ],
   "source": [
    "filtered_df.dtypes"
   ],
   "metadata": {
    "collapsed": false,
    "ExecuteTime": {
     "end_time": "2023-12-15T09:06:22.327040500Z",
     "start_time": "2023-12-15T09:06:22.238731800Z"
    }
   },
   "id": "cf822bed8ffd2ff1"
  },
  {
   "cell_type": "code",
   "execution_count": 36,
   "outputs": [
    {
     "data": {
      "text/plain": "<Figure size 800x600 with 2 Axes>",
      "image/png": "[encoded data removed]"
     },
     "metadata": {},
     "output_type": "display_data"
    }
   ],
   "source": [
    "correlation_matrix = filtered_df.corr(numeric_only=True)\n",
    "\n",
    "# Create a heatmap\n",
    "plt.figure(figsize=(8, 6))\n",
    "sns.heatmap(correlation_matrix, annot=True, cmap='coolwarm', fmt='.2f', annot_kws={\"size\": 10})\n",
    "plt.title('Correlation Matrix')\n",
    "plt.show()"
   ],
   "metadata": {
    "collapsed": false,
    "ExecuteTime": {
     "end_time": "2023-12-15T09:16:01.328993Z",
     "start_time": "2023-12-15T09:16:01.058472800Z"
    }
   },
   "id": "5bb280c445b29c46"
  },
  {
   "cell_type": "code",
   "execution_count": 36,
   "outputs": [],
   "source": [],
   "metadata": {
    "collapsed": false,
    "ExecuteTime": {
     "end_time": "2023-12-15T09:31:52.802318100Z",
     "start_time": "2023-12-15T09:31:52.731300300Z"
    }
   },
   "id": "715ec142948f544c"
  },
  {
   "cell_type": "code",
   "execution_count": null,
   "outputs": [],
   "source": [],
   "metadata": {
    "collapsed": false
   },
   "id": "6b7d4703c0379d7f"
  }
 ],
 "metadata": {
  "kernelspec": {
   "display_name": "Python 3",
   "language": "python",
   "name": "python3"
  },
  "language_info": {
   "codemirror_mode": {
    "name": "ipython",
    "version": 2
   },
   "file_extension": ".py",
   "mimetype": "text/x-python",
   "name": "python",
   "nbconvert_exporter": "python",
   "pygments_lexer": "ipython2",
   "version": "2.7.6"
  }
 },
 "nbformat": 4,
 "nbformat_minor": 5
}
